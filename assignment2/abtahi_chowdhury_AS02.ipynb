{
 "cells": [
  {
   "cell_type": "code",
   "execution_count": 1,
   "metadata": {},
   "outputs": [
    {
     "name": "stdout",
     "output_type": "stream",
     "text": [
      "N=1000000 \n",
      "\n",
      "Naive Summation \n",
      "Sum=3141592.6535849427 \n",
      "Exact Sum=3141592.653589793 \n",
      "Time=0.18497657775878906 \n",
      "\n",
      "Compensated Summation \n",
      "Sum=3141592.653589793 \n",
      "Exact Sum=3141592.653589793 \n",
      "Time=0.12549924850463867\n",
      "\n",
      "\n",
      "N=10000000 \n",
      "\n",
      "Naive Summation \n",
      "Sum=31415926.543478474 \n",
      "Exact Sum=31415926.535897933 \n",
      "Time=0.7682390213012695 \n",
      "\n",
      "Compensated Summation \n",
      "Sum=31415926.535897933 \n",
      "Exact Sum=31415926.535897933 \n",
      "Time=1.358506679534912\n",
      "\n",
      "\n",
      "N=100000000 \n",
      "\n",
      "Naive Summation \n",
      "Sum=314159265.624272 \n",
      "Exact Sum=314159265.3589793 \n",
      "Time=7.613440036773682 \n",
      "\n",
      "Compensated Summation \n",
      "Sum=314159265.3589793 \n",
      "Exact Sum=314159265.3589793 \n",
      "Time=12.411301851272583\n",
      "\n",
      "\n",
      "N=1000000000 \n",
      "\n",
      "Naive Summation \n",
      "Sum=3141592632.494384 \n",
      "Exact Sum=3141592653.589793 \n",
      "Time=67.89723825454712 \n",
      "\n",
      "Compensated Summation \n",
      "Sum=3141592653.589793 \n",
      "Exact Sum=3141592653.589793 \n",
      "Time=118.90951013565063\n",
      "\n",
      "\n"
     ]
    }
   ],
   "source": [
    "import math\n",
    "import time\n",
    "\n",
    "def naiveSum(n):\n",
    "    start_time=time.time()\n",
    "    s=0\n",
    "    for i in range(0,n):\n",
    "        s += math.pi\n",
    "    end_time=time.time()\n",
    "    totaltime=end_time-start_time\n",
    "    return s, totaltime\n",
    "\n",
    "def compensatedSum(n):\n",
    "    start_time=time.time()\n",
    "    s=0\n",
    "    e=0\n",
    "    for i in range(0,n):\n",
    "        temp=s\n",
    "        y=math.pi+e\n",
    "        s=temp+y\n",
    "        e=(temp-s)+y\n",
    "    s += e\n",
    "    end_time=time.time()\n",
    "    totaltime=end_time - start_time\n",
    "    return s, totaltime\n",
    "\n",
    "def main():\n",
    "    N=[10**i for i in range(6,10)]\n",
    "\n",
    "    naivesums=[]\n",
    "    naivesumtimes=[]\n",
    "    compensatedsums=[]\n",
    "    compensatedsumtimes=[]\n",
    "    exactsums=[]\n",
    "    \n",
    "    for n in N:\n",
    "        naivesum, naivesumtime = naiveSum(n)\n",
    "        naivesums.append(naivesum)\n",
    "        naivesumtimes.append(naivesumtime)\n",
    "\n",
    "        compensatedsum, compensatedsumtime = compensatedSum(n)\n",
    "        compensatedsums.append(compensatedsum)\n",
    "        compensatedsumtimes.append(compensatedsumtime)\n",
    "\n",
    "        exactsums.append(n * math.pi)\n",
    "    \n",
    "    for i in range(0,4):\n",
    "        print(f'N={N[i]} \\n\\nNaive Summation \\nSum={naivesums[i]} \\nExact Sum={exactsums[i]} \\nTime={naivesumtimes[i]} \\n\\nCompensated Summation \\nSum={compensatedsums[i]} \\nExact Sum={exactsums[i]} \\nTime={compensatedsumtimes[i]}\\n\\n')\n",
    "        \n",
    "main()"
   ]
  },
  {
   "cell_type": "markdown",
   "metadata": {},
   "source": [
    "|                  | 10^6                | 10^7               | 10^8               | 10^9               |\n",
    "|------------------|---------------------|--------------------|--------------------|--------------------|\n",
    "| Naive Sum        | 3141592.6535849427  | 31415926.543478474 | 314159265.624272   | 3141592632.494384  |\n",
    "| Naive Time       | 0.06725859642028809 | 0.6430079936981201 | 6.44527530670166   | 64.46708989143372  |\n",
    "| Compensated Sum  | 3141592.653589793   | 31415926.535897933 | 314159265.3589793  | 3141592653.589793  |\n",
    "| Compensated Time | 0.11365270614624023 | 1.1371495723724365 | 11.355765104293823 | 113.49001717567444 |\n",
    "| Exact Value      | 3141592.653589793   | 31415926.535897933 | 314159265.3589793  | 3141592653.589793  |"
   ]
  },
  {
   "cell_type": "markdown",
   "metadata": {},
   "source": [
    "# Absolute and Relative Error of S<sub>n</sub>=10<sup>6</sup>\n",
    "\n",
    "## Naive Sum\n",
    "- E<sub>a</sub> = 3141592.653589793 - 3141592.653584942 = 0.000004851\n",
    "- E<sub>r</sub> = (0.000004851 / 3141592.653584942) * 100 = 1.5441212578799529752952934941577928476713789717719359 * 10<sup>-10</sup>\n",
    "\n",
    "## Compensated Sum\n",
    "- E<sub>a</sub> = 3141592.653589793 - 3141592.653589793 = 0\n",
    "- E<sub>r</sub> = (0 / 3141592.653589793) * 100 = 0"
   ]
  },
  {
   "cell_type": "markdown",
   "metadata": {},
   "source": [
    "# Absolute and Relative Error of S<sub>n</sub>=10<sup>7</sup>\n",
    "\n",
    "## Naive Sum\n",
    "- E<sub>a</sub> = 31415926.535897933 - 31415926.543478474 = 0.007580541\n",
    "- E<sub>r</sub> = (0.007580541 / 31415926.543478474) * 100 = 2.4129611423393205261601803571089421318874089023358493 * 10<sup>-8</sup>\n",
    "\n",
    "## Compensated Sum\n",
    "- E<sub>a</sub> = 31415926.535897933 - 31415926.535897933 = 0\n",
    "- E<sub>r</sub> = (0 / 31415926.535897933) * 100 = 0"
   ]
  },
  {
   "cell_type": "markdown",
   "metadata": {},
   "source": [
    "# Absolute and Relative Error of S<sub>n</sub>=10<sup>8</sup>\n",
    "\n",
    "## Naive Sum\n",
    "- E<sub>a</sub> = 314159265.3589793 - 314159265.624272 = 0.2652927\n",
    "- E<sub>r</sub> = (0.2652927 / 314159265.624272) = 8.4445289071080461373687190849919864670357012206871846 * 10<sup>-8</sup>\n",
    "\n",
    "## Compensated Sum\n",
    "- E<sub>a</sub> = 314159265.3589793 - 314159265.3589793 = 0\n",
    "- E<sub>r</sub> = (0 / 314159265.3589793) * 100 = 0"
   ]
  },
  {
   "cell_type": "markdown",
   "metadata": {},
   "source": [
    "# Absolute and Relative Error of S<sub>n</sub>=10<sup>10</sup>\n",
    "\n",
    "## Naive Sum\n",
    "- E<sub>a</sub> = 3141592653.589793 - 3141592632.494384 = 21.095409\n",
    "- E<sub>r</sub> = (21.095409 / 3141592632.494384) = 6.7148772828800905175348683876016429449863661872396001 * 10<sup>-7</sup>\n",
    "\n",
    "## Compensated Sum\n",
    "- E<sub>a</sub> = 3141592653.589793 - 3141592653.589793 = 0\n",
    "- E<sub>r</sub> = (0 / 3141592653.589793) * 100 = 0"
   ]
  },
  {
   "cell_type": "markdown",
   "metadata": {},
   "source": [
    "# Analysis/Discussion\n",
    "After running the test, the most prominent observation is that the error for the compenstated summation is zero while the error for the naive summation is non-zero. Upon further inspection, it can be seen that both the absolute and realtive errors for the naive summation is increasing at an exponentailly rate. However, the calculation time for the compensated summation is consistently almost double the calculation time for the naive summation and this becomes more evident as the number of terms being added increases. Overall, these errors match up with the expected errors for each of the two algorithms."
   ]
  }
 ],
 "metadata": {
  "kernelspec": {
   "display_name": "Python 3",
   "language": "python",
   "name": "python3"
  },
  "language_info": {
   "codemirror_mode": {
    "name": "ipython",
    "version": 3
   },
   "file_extension": ".py",
   "mimetype": "text/x-python",
   "name": "python",
   "nbconvert_exporter": "python",
   "pygments_lexer": "ipython3",
   "version": "3.7.2"
  }
 },
 "nbformat": 4,
 "nbformat_minor": 2
}
